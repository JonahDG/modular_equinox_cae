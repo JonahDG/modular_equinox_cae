{
 "cells": [
  {
   "cell_type": "code",
   "execution_count": 21,
   "id": "0e9bc755",
   "metadata": {},
   "outputs": [],
   "source": [
    "import jax\n",
    "import jax.numpy as jnp\n",
    "from jax import lax\n",
    "import pandas as pd\n",
    "import equinox as eqx\n",
    "import optax\n",
    "import matplotlib.cm as cm\n",
    "import matplotlib.pyplot as plt\n",
    "import os \n",
    "from jax_tqdm import scan_tqdm"
   ]
  },
  {
   "cell_type": "code",
   "execution_count": 9,
   "id": "5fc207c2",
   "metadata": {},
   "outputs": [],
   "source": [
    "emnist=jnp.load(\"/fred/oz440/jonah/data/emnist.npz\",allow_pickle=True)\n",
    "data=emnist[\"x_test\"]\n",
    "labels=emnist[\"y_test\"]"
   ]
  },
  {
   "cell_type": "code",
   "execution_count": 14,
   "id": "56a43cb2",
   "metadata": {},
   "outputs": [
    {
     "data": {
      "text/plain": [
       "(10000, 28, 28)"
      ]
     },
     "execution_count": 14,
     "metadata": {},
     "output_type": "execute_result"
    }
   ],
   "source": [
    "data.shape"
   ]
  },
  {
   "cell_type": "code",
   "execution_count": 16,
   "id": "bd2c452d",
   "metadata": {},
   "outputs": [],
   "source": [
    "batch_size=128\n",
    "n=(data.shape[0]//batch_size)*batch_size\n",
    "data=data[:n]\n",
    "steps=n//batch_size\n",
    "shape_x=(steps,batch_size)+data.shape[1:]\n",
    "new_data=data.reshape(shape_x)"
   ]
  },
  {
   "cell_type": "code",
   "execution_count": 17,
   "id": "ac2c075d",
   "metadata": {},
   "outputs": [
    {
     "data": {
      "text/plain": [
       "(78, 128, 28, 28)"
      ]
     },
     "execution_count": 17,
     "metadata": {},
     "output_type": "execute_result"
    }
   ],
   "source": [
    "new_data.shape"
   ]
  },
  {
   "cell_type": "code",
   "execution_count": 44,
   "id": "efcdf6d7",
   "metadata": {},
   "outputs": [],
   "source": [
    "\n",
    "n = 100_000\n",
    "\n",
    "def step(carry, x):\n",
    "    return carry + 1, carry + 1"
   ]
  },
  {
   "cell_type": "code",
   "execution_count": 47,
   "id": "f575742b",
   "metadata": {},
   "outputs": [
    {
     "name": "stdout",
     "output_type": "stream",
     "text": [
      "0\n"
     ]
    },
    {
     "data": {
      "application/vnd.jupyter.widget-view+json": {
       "model_id": "56814b22bc9f4c06b91a98ab4501336e",
       "version_major": 2,
       "version_minor": 0
      },
      "text/plain": [
       "test1/5:   0%|          | 0/100000 [00:00<?, ?it/s]"
      ]
     },
     "metadata": {},
     "output_type": "display_data"
    },
    {
     "name": "stdout",
     "output_type": "stream",
     "text": [
      "1\n"
     ]
    },
    {
     "data": {
      "application/vnd.jupyter.widget-view+json": {
       "model_id": "4979163cf4cf494d980762d6716dc5e3",
       "version_major": 2,
       "version_minor": 0
      },
      "text/plain": [
       "test2/5:   0%|          | 0/100000 [00:00<?, ?it/s]"
      ]
     },
     "metadata": {},
     "output_type": "display_data"
    },
    {
     "name": "stdout",
     "output_type": "stream",
     "text": [
      "2\n"
     ]
    },
    {
     "data": {
      "application/vnd.jupyter.widget-view+json": {
       "model_id": "2295b188e09445668075732dd8ead71f",
       "version_major": 2,
       "version_minor": 0
      },
      "text/plain": [
       "test3/5:   0%|          | 0/100000 [00:00<?, ?it/s]"
      ]
     },
     "metadata": {},
     "output_type": "display_data"
    },
    {
     "name": "stdout",
     "output_type": "stream",
     "text": [
      "3\n"
     ]
    },
    {
     "data": {
      "application/vnd.jupyter.widget-view+json": {
       "model_id": "06abcf96eebc49d69235c1949fed2b07",
       "version_major": 2,
       "version_minor": 0
      },
      "text/plain": [
       "test4/5:   0%|          | 0/100000 [00:00<?, ?it/s]"
      ]
     },
     "metadata": {},
     "output_type": "display_data"
    },
    {
     "name": "stdout",
     "output_type": "stream",
     "text": [
      "4\n"
     ]
    },
    {
     "data": {
      "application/vnd.jupyter.widget-view+json": {
       "model_id": "7170e3199c544e6e8a51a92695776b93",
       "version_major": 2,
       "version_minor": 0
      },
      "text/plain": [
       "test5/5:   0%|          | 0/100000 [00:00<?, ?it/s]"
      ]
     },
     "metadata": {},
     "output_type": "display_data"
    }
   ],
   "source": [
    "epochs=5\n",
    "for epoch in range(epochs):\n",
    "    print(epoch)\n",
    "    scan_tqdm_bar=scan_tqdm(n, print_rate=1, desc=f'test{epoch+1}/{epochs}', position=0, leave=True)\n",
    "    last_number, all_numbers = lax.scan(scan_tqdm_bar(step), 0, jnp.arange(n))\n"
   ]
  },
  {
   "cell_type": "code",
   "execution_count": 49,
   "id": "55d765c1",
   "metadata": {},
   "outputs": [
    {
     "name": "stdout",
     "output_type": "stream",
     "text": [
      "[     1      2      3 ...  99998  99999 100000]\n"
     ]
    }
   ],
   "source": [
    "print(all_numbers)"
   ]
  },
  {
   "cell_type": "code",
   "execution_count": null,
   "id": "b4157af4",
   "metadata": {},
   "outputs": [],
   "source": []
  }
 ],
 "metadata": {
  "kernelspec": {
   "display_name": "module_eqx_cae",
   "language": "python",
   "name": "module_eqx_cae"
  }
 },
 "nbformat": 4,
 "nbformat_minor": 5
}
